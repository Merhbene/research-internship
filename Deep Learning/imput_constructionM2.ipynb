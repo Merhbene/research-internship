{
  "nbformat": 4,
  "nbformat_minor": 0,
  "metadata": {
    "colab": {
      "name": "imput_constructionM2.ipynb",
      "provenance": []
    },
    "kernelspec": {
      "name": "python3",
      "display_name": "Python 3"
    }
  },
  "cells": [
    {
      "cell_type": "code",
      "metadata": {
        "id": "gqrxETiiCAu_",
        "colab_type": "code",
        "colab": {}
      },
      "source": [
        "import numpy as np"
      ],
      "execution_count": 1,
      "outputs": []
    },
    {
      "cell_type": "code",
      "metadata": {
        "id": "2oU6wrD58JJH",
        "colab_type": "code",
        "colab": {}
      },
      "source": [
        "\n",
        "def Transf(file1,file2):\n",
        "    f1= open(file1, \"r\")\n",
        "    L=[]\n",
        "    for line in f1 :\n",
        "      #print(line.split())\n",
        "      l = [int(x) for x in line.split()]\n",
        "      L.append(l)\n",
        "    a=[[round(i[0],5),round(i[1],5)] for i in L]\n",
        "    nb_sommet=a[0][0]\n",
        "    a=a[1:]\n",
        "\n",
        "      #x adjacency matrix\n",
        "    x=np.zeros((nb_sommet,nb_sommet))\n",
        "    for i in a:\n",
        "      x[i[0]][i[1]]=1\n",
        "      x[i[1]][i[0]]=1\n",
        "\n",
        "    x= x.astype(int)\n",
        "\n",
        "    sup=[]\n",
        "    deg=[]\n",
        "    deg2=[]\n",
        "    for i in range(nb_sommet):\n",
        "      s=0\n",
        "      for j in range (nb_sommet):\n",
        "        if x[i][j]==1:\n",
        "          s=s+1\n",
        "      sup.append(s)\n",
        "\n",
        "    for i in range(nb_sommet):\n",
        "      d=0\n",
        "      for j in range (nb_sommet):\n",
        "        if x[i][j]==1:\n",
        "          d=d+sup[j]\n",
        "      deg.append(d)\n",
        "\n",
        "    for i in range(nb_sommet):\n",
        "      d2=0\n",
        "      for j in range (nb_sommet):\n",
        "        if x[i][j]==1:\n",
        "          d2=d2+deg[j]\n",
        "      deg2.append(d2)\n",
        "\n",
        "    M=[]\n",
        "    for i in range (nb_sommet):\n",
        "      M.append([sup[i],deg[i],deg2[i]])\n",
        "    X1=np.array([np.array(xi) for xi in M])\n",
        "    x1 = X1 / X1.max(axis=0)\n",
        "\n",
        "\n",
        "    f2= open(file2, \"r\")\n",
        "    y1=[]\n",
        "    for line in f2 :\n",
        "      y1.append(int(line) )\n",
        "\n",
        "    l=[0 for i in range(nb_sommet)]\n",
        "    for i in y1 :\n",
        "       l[i]=1\n",
        "    Y1=np.asarray(l)\n",
        "\n",
        "    return(x1,Y1)\n",
        "\n"
      ],
      "execution_count": 32,
      "outputs": []
    },
    {
      "cell_type": "code",
      "metadata": {
        "id": "DhT2aVhzWybf",
        "colab_type": "code",
        "colab": {
          "base_uri": "https://localhost:8080/",
          "height": 136
        },
        "outputId": "35996042-125c-4cdf-832e-70ab3821f5c4"
      },
      "source": [
        "file1=\"/content/bio-yeast.txt\"\n",
        "file2=\"/content/y_bio_yeast.txt\"\n",
        "Transf(file1,file2)"
      ],
      "execution_count": 33,
      "outputs": [
        {
          "output_type": "execute_result",
          "data": {
            "text/plain": [
              "(array([[0.08928571, 0.20833333, 0.03575795],\n",
              "        [0.05357143, 0.04761905, 0.00764059],\n",
              "        [0.03571429, 0.04761905, 0.00947433],\n",
              "        ...,\n",
              "        [0.01785714, 0.01785714, 0.00122249],\n",
              "        [0.01785714, 0.01190476, 0.00947433],\n",
              "        [0.01785714, 0.01190476, 0.00091687]]), array([0, 0, 1, ..., 1, 0, 1]))"
            ]
          },
          "metadata": {
            "tags": []
          },
          "execution_count": 33
        }
      ]
    },
    {
      "cell_type": "code",
      "metadata": {
        "id": "bYycWhvRDmYl",
        "colab_type": "code",
        "colab": {}
      },
      "source": [
        "x_files=[\"ba100.txt\",\"ba1000.txt\",\"ba200.txt\",\"citeseer.txt\",\"bio_SC.txt\",\"bio_yeast.txt\",\"cora.txt\",\"dimacs.txt\",\"dimacs15.txt\",\"er100.txt\",\"er1000.txt\",\"er20.txt\",\"er200.txt\",\"er5000.txt\",\"grid1.txt\",\"grid10.txt\",\"grid50.txt\",\"grid55.txt\",\"grid70.txt\",\"path.txt\"]\n"
      ],
      "execution_count": 38,
      "outputs": []
    },
    {
      "cell_type": "code",
      "metadata": {
        "id": "YjdwME4VYylf",
        "colab_type": "code",
        "colab": {}
      },
      "source": [
        "d=0\n",
        "for file1 in x_files :\n",
        "  x1,y1=Transf(file1,\"y_\"+file1)\n",
        "  if (d==0):\n",
        "    x=x1\n",
        "    y=y1\n",
        "  else:\n",
        "    x=np.concatenate((x,x1))\n",
        "    y=np.concatenate((y,y1))\n",
        "\n",
        "  d=d+1"
      ],
      "execution_count": 39,
      "outputs": []
    },
    {
      "cell_type": "code",
      "metadata": {
        "id": "Z18cUnTqcpOM",
        "colab_type": "code",
        "colab": {
          "base_uri": "https://localhost:8080/",
          "height": 136
        },
        "outputId": "d645530f-39fb-4819-ed5e-d9c86ade00d2"
      },
      "source": [
        "x"
      ],
      "execution_count": 40,
      "outputs": [
        {
          "output_type": "execute_result",
          "data": {
            "text/plain": [
              "array([[0.11111111, 0.21843687, 0.16595247],\n",
              "       [0.26666667, 0.40480962, 0.33229451],\n",
              "       [0.31111111, 0.46092184, 0.38072978],\n",
              "       ...,\n",
              "       [1.        , 1.        , 0.875     ],\n",
              "       [1.        , 0.75      , 0.75      ],\n",
              "       [0.5       , 0.5       , 0.375     ]])"
            ]
          },
          "metadata": {
            "tags": []
          },
          "execution_count": 40
        }
      ]
    },
    {
      "cell_type": "code",
      "metadata": {
        "id": "kAMqD4J7dK5B",
        "colab_type": "code",
        "colab": {
          "base_uri": "https://localhost:8080/",
          "height": 34
        },
        "outputId": "7da771dc-6763-46dd-cd0f-7a44d3a9f962"
      },
      "source": [
        "y"
      ],
      "execution_count": 41,
      "outputs": [
        {
          "output_type": "execute_result",
          "data": {
            "text/plain": [
              "array([1, 0, 0, ..., 0, 1, 0])"
            ]
          },
          "metadata": {
            "tags": []
          },
          "execution_count": 41
        }
      ]
    },
    {
      "cell_type": "code",
      "metadata": {
        "id": "_xK009rudMPR",
        "colab_type": "code",
        "colab": {
          "base_uri": "https://localhost:8080/",
          "height": 34
        },
        "outputId": "9cbe347a-baaa-4ca1-b373-2a55ed402ba9"
      },
      "source": [
        "x.shape"
      ],
      "execution_count": 42,
      "outputs": [
        {
          "output_type": "execute_result",
          "data": {
            "text/plain": [
              "(26917, 3)"
            ]
          },
          "metadata": {
            "tags": []
          },
          "execution_count": 42
        }
      ]
    },
    {
      "cell_type": "code",
      "metadata": {
        "id": "ydxFCqvUdRgZ",
        "colab_type": "code",
        "colab": {
          "base_uri": "https://localhost:8080/",
          "height": 34
        },
        "outputId": "1da81290-f7d1-4e4a-a701-6fe53dfaca8f"
      },
      "source": [
        "y.shape"
      ],
      "execution_count": 43,
      "outputs": [
        {
          "output_type": "execute_result",
          "data": {
            "text/plain": [
              "(26917,)"
            ]
          },
          "metadata": {
            "tags": []
          },
          "execution_count": 43
        }
      ]
    },
    {
      "cell_type": "code",
      "metadata": {
        "id": "1vT_R73dcHtY",
        "colab_type": "code",
        "colab": {}
      },
      "source": [
        "from sklearn.utils import shuffle\n",
        "X, y = shuffle(x, y)\n"
      ],
      "execution_count": 44,
      "outputs": []
    },
    {
      "cell_type": "code",
      "metadata": {
        "id": "jyn7VfEddTzq",
        "colab_type": "code",
        "colab": {
          "base_uri": "https://localhost:8080/",
          "height": 34
        },
        "outputId": "629e0098-7003-4272-e48e-2581207ff8bd"
      },
      "source": [
        "from google.colab import drive\n",
        "drive.mount(\"/content/drive\")"
      ],
      "execution_count": 45,
      "outputs": [
        {
          "output_type": "stream",
          "text": [
            "Mounted at /content/drive\n"
          ],
          "name": "stdout"
        }
      ]
    },
    {
      "cell_type": "code",
      "metadata": {
        "id": "3NA7Z7aSdy5X",
        "colab_type": "code",
        "colab": {}
      },
      "source": [
        "X=np.savetxt(\"/content/drive/My Drive/my_X.txt\",X, delimiter=',')\n",
        "y=np.savetxt(\"/content/drive/My Drive/my_y.txt\",y)\n"
      ],
      "execution_count": 50,
      "outputs": []
    },
    {
      "cell_type": "code",
      "metadata": {
        "id": "2Ke0h6okeQnA",
        "colab_type": "code",
        "colab": {}
      },
      "source": [
        ""
      ],
      "execution_count": null,
      "outputs": []
    }
  ]
}