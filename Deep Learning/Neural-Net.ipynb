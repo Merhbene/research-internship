{
  "nbformat": 4,
  "nbformat_minor": 0,
  "metadata": {
    "colab": {
      "name": "acc0,81_3feat.ipynb",
      "provenance": []
    },
    "kernelspec": {
      "name": "python3",
      "display_name": "Python 3"
    }
  },
  "cells": [
    {
      "cell_type": "code",
      "metadata": {
        "id": "coVUR3988pca",
        "outputId": "794541ad-4b11-466c-a634-a9e375338a4d",
        "colab": {
          "base_uri": "https://localhost:8080/",
          "height": 34
        }
      },
      "source": [
        "from google.colab import drive\n",
        "drive.mount(\"/content/drive\")"
      ],
      "execution_count": 31,
      "outputs": [
        {
          "output_type": "stream",
          "text": [
            "Drive already mounted at /content/drive; to attempt to forcibly remount, call drive.mount(\"/content/drive\", force_remount=True).\n"
          ],
          "name": "stdout"
        }
      ]
    },
    {
      "cell_type": "code",
      "metadata": {
        "id": "MQ3N2xPCIDlD"
      },
      "source": [
        "import numpy as np\n",
        "from keras.models import Sequential\n",
        "from sklearn.model_selection import train_test_split\n",
        "from keras.optimizers import Adam, SGD\n",
        "from keras.layers import Dense, Activation, Dropout, BatchNormalization,LeakyReLU,Flatten\n"
      ],
      "execution_count": 32,
      "outputs": []
    },
    {
      "cell_type": "code",
      "metadata": {
        "id": "yXLJKmWI3yff"
      },
      "source": [
        "y=np.loadtxt(\"/content/drive/My Drive/my_y2.txt\")\n"
      ],
      "execution_count": 33,
      "outputs": []
    },
    {
      "cell_type": "code",
      "metadata": {
        "id": "y2RqvZJy3z3C",
        "outputId": "26ddd2e5-ce53-43de-d21b-50f2103abd3c",
        "colab": {
          "base_uri": "https://localhost:8080/",
          "height": 34
        }
      },
      "source": [
        "y.shape"
      ],
      "execution_count": 34,
      "outputs": [
        {
          "output_type": "execute_result",
          "data": {
            "text/plain": [
              "(18717,)"
            ]
          },
          "metadata": {
            "tags": []
          },
          "execution_count": 34
        }
      ]
    },
    {
      "cell_type": "code",
      "metadata": {
        "id": "LwUX8DbTIIxN"
      },
      "source": [
        "X=np.loadtxt(\"/content/drive/My Drive/my_X1.txt\",delimiter=',')\n"
      ],
      "execution_count": 35,
      "outputs": []
    },
    {
      "cell_type": "code",
      "metadata": {
        "id": "x4n8AqJgvtmG",
        "outputId": "9668c1a6-4376-424b-d75e-15a95f06731d",
        "colab": {
          "base_uri": "https://localhost:8080/",
          "height": 34
        }
      },
      "source": [
        "X.shape"
      ],
      "execution_count": 36,
      "outputs": [
        {
          "output_type": "execute_result",
          "data": {
            "text/plain": [
              "(18717, 3)"
            ]
          },
          "metadata": {
            "tags": []
          },
          "execution_count": 36
        }
      ]
    },
    {
      "cell_type": "code",
      "metadata": {
        "id": "FUsZQ61CRpBw",
        "outputId": "ce4737f5-b811-4bc0-e6af-4495fc08abb6",
        "colab": {
          "base_uri": "https://localhost:8080/",
          "height": 136
        }
      },
      "source": [
        "X"
      ],
      "execution_count": 37,
      "outputs": [
        {
          "output_type": "execute_result",
          "data": {
            "text/plain": [
              "array([[7.16346154e-01, 7.33121577e-01, 7.31782576e-01],\n",
              "       [4.13223140e-02, 4.60624071e-02, 4.33908393e-02],\n",
              "       [2.02020202e-02, 6.25000000e-03, 4.79817669e-04],\n",
              "       ...,\n",
              "       [5.95238095e-03, 1.14942529e-03, 2.99463960e-05],\n",
              "       [2.02020202e-02, 6.25000000e-03, 7.19726504e-04],\n",
              "       [4.69135802e-01, 4.66196498e-01, 4.57624245e-01]])"
            ]
          },
          "metadata": {
            "tags": []
          },
          "execution_count": 37
        }
      ]
    },
    {
      "cell_type": "code",
      "metadata": {
        "id": "eL_7vpQwJAR4"
      },
      "source": [
        "X_train, X_test, y_train, y_test = train_test_split( X, y, test_size=0.2)"
      ],
      "execution_count": 38,
      "outputs": []
    },
    {
      "cell_type": "code",
      "metadata": {
        "id": "MxN7qsyBJk0v",
        "outputId": "6c84c2a1-ae24-44cf-9a9c-883380004e65",
        "colab": {
          "base_uri": "https://localhost:8080/",
          "height": 34
        }
      },
      "source": [
        "X_train.shape, X_test.shape, y_train.shape, y_test.shape"
      ],
      "execution_count": 39,
      "outputs": [
        {
          "output_type": "execute_result",
          "data": {
            "text/plain": [
              "((14973, 3), (3744, 3), (14973,), (3744,))"
            ]
          },
          "metadata": {
            "tags": []
          },
          "execution_count": 39
        }
      ]
    },
    {
      "cell_type": "code",
      "metadata": {
        "id": "SsAwWBEVMBAf",
        "outputId": "178d3df0-473e-4017-87ac-192e87588cb5",
        "colab": {
          "base_uri": "https://localhost:8080/",
          "height": 1000
        }
      },
      "source": [
        "model = Sequential()\n",
        "model.add(Dense(200, input_dim=3, activation='relu'))\n",
        "model.add(Dropout(0.5))\n",
        "model.add(Dense(100, activation='relu'))\n",
        "model.add(Dropout(0.3))\n",
        "model.add(Dense(50, activation='relu'))\n",
        "model.add(Dropout(0.2))\n",
        "model.add(Dense(1, activation='sigmoid'))\n",
        "\n",
        "sgd = SGD(lr=0.005, momentum=0.9)\n",
        "\n",
        "model.compile(loss='binary_crossentropy', optimizer=sgd, metrics=['accuracy'])\n",
        "\n",
        "history = model.fit(X_train, y_train,epochs=100,batch_size=50,verbose=1,validation_split=0.5)\n"
      ],
      "execution_count": 40,
      "outputs": [
        {
          "output_type": "stream",
          "text": [
            "Epoch 1/100\n",
            "150/150 [==============================] - 0s 3ms/step - loss: 0.5916 - accuracy: 0.6314 - val_loss: 0.5262 - val_accuracy: 0.6518\n",
            "Epoch 2/100\n",
            "150/150 [==============================] - 0s 3ms/step - loss: 0.5206 - accuracy: 0.7177 - val_loss: 0.5124 - val_accuracy: 0.7409\n",
            "Epoch 3/100\n",
            "150/150 [==============================] - 0s 2ms/step - loss: 0.5143 - accuracy: 0.7394 - val_loss: 0.5097 - val_accuracy: 0.7417\n",
            "Epoch 4/100\n",
            "150/150 [==============================] - 0s 2ms/step - loss: 0.5109 - accuracy: 0.7430 - val_loss: 0.5076 - val_accuracy: 0.7441\n",
            "Epoch 5/100\n",
            "150/150 [==============================] - 0s 2ms/step - loss: 0.5118 - accuracy: 0.7449 - val_loss: 0.5067 - val_accuracy: 0.7417\n",
            "Epoch 6/100\n",
            "150/150 [==============================] - 0s 2ms/step - loss: 0.5081 - accuracy: 0.7486 - val_loss: 0.5057 - val_accuracy: 0.7434\n",
            "Epoch 7/100\n",
            "150/150 [==============================] - 0s 2ms/step - loss: 0.5050 - accuracy: 0.7461 - val_loss: 0.5048 - val_accuracy: 0.7474\n",
            "Epoch 8/100\n",
            "150/150 [==============================] - 0s 2ms/step - loss: 0.5056 - accuracy: 0.7522 - val_loss: 0.5055 - val_accuracy: 0.7381\n",
            "Epoch 9/100\n",
            "150/150 [==============================] - 0s 2ms/step - loss: 0.5041 - accuracy: 0.7527 - val_loss: 0.5026 - val_accuracy: 0.7477\n",
            "Epoch 10/100\n",
            "150/150 [==============================] - 0s 2ms/step - loss: 0.5016 - accuracy: 0.7527 - val_loss: 0.5023 - val_accuracy: 0.7576\n",
            "Epoch 11/100\n",
            "150/150 [==============================] - 0s 2ms/step - loss: 0.5015 - accuracy: 0.7554 - val_loss: 0.5008 - val_accuracy: 0.7466\n",
            "Epoch 12/100\n",
            "150/150 [==============================] - 0s 2ms/step - loss: 0.5017 - accuracy: 0.7549 - val_loss: 0.5013 - val_accuracy: 0.7420\n",
            "Epoch 13/100\n",
            "150/150 [==============================] - 0s 2ms/step - loss: 0.4988 - accuracy: 0.7600 - val_loss: 0.4976 - val_accuracy: 0.7572\n",
            "Epoch 14/100\n",
            "150/150 [==============================] - 0s 2ms/step - loss: 0.4968 - accuracy: 0.7614 - val_loss: 0.4984 - val_accuracy: 0.7649\n",
            "Epoch 15/100\n",
            "150/150 [==============================] - 0s 3ms/step - loss: 0.4969 - accuracy: 0.7642 - val_loss: 0.4957 - val_accuracy: 0.7484\n",
            "Epoch 16/100\n",
            "150/150 [==============================] - 0s 2ms/step - loss: 0.4952 - accuracy: 0.7633 - val_loss: 0.4936 - val_accuracy: 0.7525\n",
            "Epoch 17/100\n",
            "150/150 [==============================] - 0s 2ms/step - loss: 0.4948 - accuracy: 0.7665 - val_loss: 0.4944 - val_accuracy: 0.7466\n",
            "Epoch 18/100\n",
            "150/150 [==============================] - 0s 2ms/step - loss: 0.4932 - accuracy: 0.7633 - val_loss: 0.4917 - val_accuracy: 0.7564\n",
            "Epoch 19/100\n",
            "150/150 [==============================] - 0s 2ms/step - loss: 0.4929 - accuracy: 0.7662 - val_loss: 0.4912 - val_accuracy: 0.7741\n",
            "Epoch 20/100\n",
            "150/150 [==============================] - 0s 2ms/step - loss: 0.4924 - accuracy: 0.7654 - val_loss: 0.4894 - val_accuracy: 0.7570\n",
            "Epoch 21/100\n",
            "150/150 [==============================] - 0s 3ms/step - loss: 0.4908 - accuracy: 0.7681 - val_loss: 0.4860 - val_accuracy: 0.7639\n",
            "Epoch 22/100\n",
            "150/150 [==============================] - 0s 2ms/step - loss: 0.4886 - accuracy: 0.7714 - val_loss: 0.4841 - val_accuracy: 0.7644\n",
            "Epoch 23/100\n",
            "150/150 [==============================] - 0s 2ms/step - loss: 0.4890 - accuracy: 0.7702 - val_loss: 0.4891 - val_accuracy: 0.7882\n",
            "Epoch 24/100\n",
            "150/150 [==============================] - 0s 2ms/step - loss: 0.4869 - accuracy: 0.7741 - val_loss: 0.4846 - val_accuracy: 0.7581\n",
            "Epoch 25/100\n",
            "150/150 [==============================] - 0s 2ms/step - loss: 0.4837 - accuracy: 0.7742 - val_loss: 0.4851 - val_accuracy: 0.7836\n",
            "Epoch 26/100\n",
            "150/150 [==============================] - 0s 2ms/step - loss: 0.4848 - accuracy: 0.7741 - val_loss: 0.4874 - val_accuracy: 0.7540\n",
            "Epoch 27/100\n",
            "150/150 [==============================] - 0s 2ms/step - loss: 0.4805 - accuracy: 0.7771 - val_loss: 0.4774 - val_accuracy: 0.7684\n",
            "Epoch 28/100\n",
            "150/150 [==============================] - 0s 2ms/step - loss: 0.4779 - accuracy: 0.7769 - val_loss: 0.4757 - val_accuracy: 0.7711\n",
            "Epoch 29/100\n",
            "150/150 [==============================] - 0s 2ms/step - loss: 0.4766 - accuracy: 0.7781 - val_loss: 0.4764 - val_accuracy: 0.7890\n",
            "Epoch 30/100\n",
            "150/150 [==============================] - 0s 2ms/step - loss: 0.4792 - accuracy: 0.7748 - val_loss: 0.4745 - val_accuracy: 0.7705\n",
            "Epoch 31/100\n",
            "150/150 [==============================] - 0s 2ms/step - loss: 0.4773 - accuracy: 0.7824 - val_loss: 0.4716 - val_accuracy: 0.7810\n",
            "Epoch 32/100\n",
            "150/150 [==============================] - 0s 2ms/step - loss: 0.4770 - accuracy: 0.7784 - val_loss: 0.4707 - val_accuracy: 0.7803\n",
            "Epoch 33/100\n",
            "150/150 [==============================] - 0s 2ms/step - loss: 0.4775 - accuracy: 0.7824 - val_loss: 0.4703 - val_accuracy: 0.7765\n",
            "Epoch 34/100\n",
            "150/150 [==============================] - 0s 2ms/step - loss: 0.4761 - accuracy: 0.7841 - val_loss: 0.4694 - val_accuracy: 0.7854\n",
            "Epoch 35/100\n",
            "150/150 [==============================] - 0s 2ms/step - loss: 0.4793 - accuracy: 0.7812 - val_loss: 0.4687 - val_accuracy: 0.7876\n",
            "Epoch 36/100\n",
            "150/150 [==============================] - 0s 2ms/step - loss: 0.4743 - accuracy: 0.7809 - val_loss: 0.4691 - val_accuracy: 0.7760\n",
            "Epoch 37/100\n",
            "150/150 [==============================] - 0s 3ms/step - loss: 0.4763 - accuracy: 0.7827 - val_loss: 0.4664 - val_accuracy: 0.7818\n",
            "Epoch 38/100\n",
            "150/150 [==============================] - 0s 2ms/step - loss: 0.4750 - accuracy: 0.7799 - val_loss: 0.4826 - val_accuracy: 0.7648\n",
            "Epoch 39/100\n",
            "150/150 [==============================] - 0s 3ms/step - loss: 0.4727 - accuracy: 0.7819 - val_loss: 0.4667 - val_accuracy: 0.7930\n",
            "Epoch 40/100\n",
            "150/150 [==============================] - 0s 3ms/step - loss: 0.4754 - accuracy: 0.7801 - val_loss: 0.4632 - val_accuracy: 0.7859\n",
            "Epoch 41/100\n",
            "150/150 [==============================] - 0s 2ms/step - loss: 0.4734 - accuracy: 0.7839 - val_loss: 0.4670 - val_accuracy: 0.7772\n",
            "Epoch 42/100\n",
            "150/150 [==============================] - 0s 2ms/step - loss: 0.4727 - accuracy: 0.7844 - val_loss: 0.4927 - val_accuracy: 0.7365\n",
            "Epoch 43/100\n",
            "150/150 [==============================] - 0s 3ms/step - loss: 0.4708 - accuracy: 0.7820 - val_loss: 0.4634 - val_accuracy: 0.7859\n",
            "Epoch 44/100\n",
            "150/150 [==============================] - 0s 2ms/step - loss: 0.4759 - accuracy: 0.7768 - val_loss: 0.4647 - val_accuracy: 0.7818\n",
            "Epoch 45/100\n",
            "150/150 [==============================] - 0s 2ms/step - loss: 0.4732 - accuracy: 0.7820 - val_loss: 0.4627 - val_accuracy: 0.7920\n",
            "Epoch 46/100\n",
            "150/150 [==============================] - 0s 2ms/step - loss: 0.4713 - accuracy: 0.7884 - val_loss: 0.4611 - val_accuracy: 0.7858\n",
            "Epoch 47/100\n",
            "150/150 [==============================] - 0s 2ms/step - loss: 0.4719 - accuracy: 0.7837 - val_loss: 0.4646 - val_accuracy: 0.7944\n",
            "Epoch 48/100\n",
            "150/150 [==============================] - 0s 2ms/step - loss: 0.4679 - accuracy: 0.7879 - val_loss: 0.4612 - val_accuracy: 0.7811\n",
            "Epoch 49/100\n",
            "150/150 [==============================] - 0s 2ms/step - loss: 0.4696 - accuracy: 0.7847 - val_loss: 0.4591 - val_accuracy: 0.7903\n",
            "Epoch 50/100\n",
            "150/150 [==============================] - 0s 2ms/step - loss: 0.4670 - accuracy: 0.7899 - val_loss: 0.4608 - val_accuracy: 0.7950\n",
            "Epoch 51/100\n",
            "150/150 [==============================] - 0s 3ms/step - loss: 0.4722 - accuracy: 0.7807 - val_loss: 0.4604 - val_accuracy: 0.7936\n",
            "Epoch 52/100\n",
            "150/150 [==============================] - 0s 3ms/step - loss: 0.4696 - accuracy: 0.7865 - val_loss: 0.4655 - val_accuracy: 0.7772\n",
            "Epoch 53/100\n",
            "150/150 [==============================] - 0s 3ms/step - loss: 0.4664 - accuracy: 0.7844 - val_loss: 0.4872 - val_accuracy: 0.7736\n",
            "Epoch 54/100\n",
            "150/150 [==============================] - 0s 2ms/step - loss: 0.4690 - accuracy: 0.7817 - val_loss: 0.4636 - val_accuracy: 0.7777\n",
            "Epoch 55/100\n",
            "150/150 [==============================] - 0s 2ms/step - loss: 0.4717 - accuracy: 0.7796 - val_loss: 0.4753 - val_accuracy: 0.7672\n",
            "Epoch 56/100\n",
            "150/150 [==============================] - 0s 2ms/step - loss: 0.4722 - accuracy: 0.7823 - val_loss: 0.4594 - val_accuracy: 0.7895\n",
            "Epoch 57/100\n",
            "150/150 [==============================] - 0s 2ms/step - loss: 0.4700 - accuracy: 0.7836 - val_loss: 0.4591 - val_accuracy: 0.7924\n",
            "Epoch 58/100\n",
            "150/150 [==============================] - 0s 2ms/step - loss: 0.4662 - accuracy: 0.7875 - val_loss: 0.4623 - val_accuracy: 0.7787\n",
            "Epoch 59/100\n",
            "150/150 [==============================] - 0s 2ms/step - loss: 0.4701 - accuracy: 0.7845 - val_loss: 0.4649 - val_accuracy: 0.8038\n",
            "Epoch 60/100\n",
            "150/150 [==============================] - 0s 2ms/step - loss: 0.4655 - accuracy: 0.7864 - val_loss: 0.4580 - val_accuracy: 0.7860\n",
            "Epoch 61/100\n",
            "150/150 [==============================] - 0s 2ms/step - loss: 0.4666 - accuracy: 0.7876 - val_loss: 0.4561 - val_accuracy: 0.7882\n",
            "Epoch 62/100\n",
            "150/150 [==============================] - 0s 2ms/step - loss: 0.4669 - accuracy: 0.7827 - val_loss: 0.4695 - val_accuracy: 0.7753\n",
            "Epoch 63/100\n",
            "150/150 [==============================] - 0s 2ms/step - loss: 0.4625 - accuracy: 0.7924 - val_loss: 0.4590 - val_accuracy: 0.7840\n",
            "Epoch 64/100\n",
            "150/150 [==============================] - 0s 2ms/step - loss: 0.4709 - accuracy: 0.7821 - val_loss: 0.4583 - val_accuracy: 0.7844\n",
            "Epoch 65/100\n",
            "150/150 [==============================] - 0s 3ms/step - loss: 0.4676 - accuracy: 0.7875 - val_loss: 0.4812 - val_accuracy: 0.7684\n",
            "Epoch 66/100\n",
            "150/150 [==============================] - 0s 2ms/step - loss: 0.4696 - accuracy: 0.7864 - val_loss: 0.4583 - val_accuracy: 0.7846\n",
            "Epoch 67/100\n",
            "150/150 [==============================] - 0s 2ms/step - loss: 0.4691 - accuracy: 0.7828 - val_loss: 0.4558 - val_accuracy: 0.7943\n",
            "Epoch 68/100\n",
            "150/150 [==============================] - 0s 3ms/step - loss: 0.4702 - accuracy: 0.7855 - val_loss: 0.4578 - val_accuracy: 0.7932\n",
            "Epoch 69/100\n",
            "150/150 [==============================] - 0s 2ms/step - loss: 0.4686 - accuracy: 0.7889 - val_loss: 0.4975 - val_accuracy: 0.7613\n",
            "Epoch 70/100\n",
            "150/150 [==============================] - 0s 2ms/step - loss: 0.4688 - accuracy: 0.7859 - val_loss: 0.4586 - val_accuracy: 0.7928\n",
            "Epoch 71/100\n",
            "150/150 [==============================] - 0s 3ms/step - loss: 0.4663 - accuracy: 0.7849 - val_loss: 0.4795 - val_accuracy: 0.7663\n",
            "Epoch 72/100\n",
            "150/150 [==============================] - 0s 3ms/step - loss: 0.4690 - accuracy: 0.7807 - val_loss: 0.4656 - val_accuracy: 0.7765\n",
            "Epoch 73/100\n",
            "150/150 [==============================] - 0s 2ms/step - loss: 0.4682 - accuracy: 0.7825 - val_loss: 0.4612 - val_accuracy: 0.7938\n",
            "Epoch 74/100\n",
            "150/150 [==============================] - 0s 2ms/step - loss: 0.4688 - accuracy: 0.7848 - val_loss: 0.4594 - val_accuracy: 0.7951\n",
            "Epoch 75/100\n",
            "150/150 [==============================] - 0s 3ms/step - loss: 0.4700 - accuracy: 0.7877 - val_loss: 0.4550 - val_accuracy: 0.7878\n",
            "Epoch 76/100\n",
            "150/150 [==============================] - 0s 2ms/step - loss: 0.4617 - accuracy: 0.7893 - val_loss: 0.4531 - val_accuracy: 0.7906\n",
            "Epoch 77/100\n",
            "150/150 [==============================] - 0s 2ms/step - loss: 0.4702 - accuracy: 0.7831 - val_loss: 0.4698 - val_accuracy: 0.7752\n",
            "Epoch 78/100\n",
            "150/150 [==============================] - 0s 2ms/step - loss: 0.4668 - accuracy: 0.7881 - val_loss: 0.4576 - val_accuracy: 0.7962\n",
            "Epoch 79/100\n",
            "150/150 [==============================] - 0s 2ms/step - loss: 0.4622 - accuracy: 0.7897 - val_loss: 0.4531 - val_accuracy: 0.7952\n",
            "Epoch 80/100\n",
            "150/150 [==============================] - 0s 3ms/step - loss: 0.4631 - accuracy: 0.7876 - val_loss: 0.4592 - val_accuracy: 0.7842\n",
            "Epoch 81/100\n",
            "150/150 [==============================] - 0s 3ms/step - loss: 0.4643 - accuracy: 0.7845 - val_loss: 0.4605 - val_accuracy: 0.7807\n",
            "Epoch 82/100\n",
            "150/150 [==============================] - 0s 3ms/step - loss: 0.4637 - accuracy: 0.7904 - val_loss: 0.4566 - val_accuracy: 0.7856\n",
            "Epoch 83/100\n",
            "150/150 [==============================] - 0s 2ms/step - loss: 0.4654 - accuracy: 0.7859 - val_loss: 0.4503 - val_accuracy: 0.7948\n",
            "Epoch 84/100\n",
            "150/150 [==============================] - 0s 2ms/step - loss: 0.4634 - accuracy: 0.7893 - val_loss: 0.4669 - val_accuracy: 0.7776\n",
            "Epoch 85/100\n",
            "150/150 [==============================] - 0s 2ms/step - loss: 0.4681 - accuracy: 0.7848 - val_loss: 0.4528 - val_accuracy: 0.7947\n",
            "Epoch 86/100\n",
            "150/150 [==============================] - 0s 3ms/step - loss: 0.4616 - accuracy: 0.7879 - val_loss: 0.4641 - val_accuracy: 0.7788\n",
            "Epoch 87/100\n",
            "150/150 [==============================] - 0s 2ms/step - loss: 0.4660 - accuracy: 0.7836 - val_loss: 0.4540 - val_accuracy: 0.7930\n",
            "Epoch 88/100\n",
            "150/150 [==============================] - 0s 2ms/step - loss: 0.4654 - accuracy: 0.7893 - val_loss: 0.4496 - val_accuracy: 0.7944\n",
            "Epoch 89/100\n",
            "150/150 [==============================] - 0s 3ms/step - loss: 0.4658 - accuracy: 0.7864 - val_loss: 0.4544 - val_accuracy: 0.7843\n",
            "Epoch 90/100\n",
            "150/150 [==============================] - 0s 2ms/step - loss: 0.4701 - accuracy: 0.7816 - val_loss: 0.4845 - val_accuracy: 0.7675\n",
            "Epoch 91/100\n",
            "150/150 [==============================] - 0s 3ms/step - loss: 0.4655 - accuracy: 0.7793 - val_loss: 0.4562 - val_accuracy: 0.7847\n",
            "Epoch 92/100\n",
            "150/150 [==============================] - 0s 3ms/step - loss: 0.4618 - accuracy: 0.7837 - val_loss: 0.4509 - val_accuracy: 0.7936\n",
            "Epoch 93/100\n",
            "150/150 [==============================] - 0s 2ms/step - loss: 0.4581 - accuracy: 0.7913 - val_loss: 0.4544 - val_accuracy: 0.7822\n",
            "Epoch 94/100\n",
            "150/150 [==============================] - 0s 2ms/step - loss: 0.4686 - accuracy: 0.7832 - val_loss: 0.4572 - val_accuracy: 0.7828\n",
            "Epoch 95/100\n",
            "150/150 [==============================] - 0s 2ms/step - loss: 0.4649 - accuracy: 0.7883 - val_loss: 0.4508 - val_accuracy: 0.7939\n",
            "Epoch 96/100\n",
            "150/150 [==============================] - 0s 2ms/step - loss: 0.4592 - accuracy: 0.7913 - val_loss: 0.4473 - val_accuracy: 0.7951\n",
            "Epoch 97/100\n",
            "150/150 [==============================] - 0s 3ms/step - loss: 0.4648 - accuracy: 0.7849 - val_loss: 0.4512 - val_accuracy: 0.7934\n",
            "Epoch 98/100\n",
            "150/150 [==============================] - 0s 2ms/step - loss: 0.4700 - accuracy: 0.7804 - val_loss: 0.4509 - val_accuracy: 0.7958\n",
            "Epoch 99/100\n",
            "150/150 [==============================] - 0s 3ms/step - loss: 0.4649 - accuracy: 0.7859 - val_loss: 0.4620 - val_accuracy: 0.7795\n",
            "Epoch 100/100\n",
            "150/150 [==============================] - 0s 2ms/step - loss: 0.4643 - accuracy: 0.7849 - val_loss: 0.4513 - val_accuracy: 0.7939\n"
          ],
          "name": "stdout"
        }
      ]
    },
    {
      "cell_type": "code",
      "metadata": {
        "id": "5uDWPo02MqMG",
        "outputId": "90015588-c97e-4327-aa3d-0a111d560098",
        "colab": {
          "base_uri": "https://localhost:8080/",
          "height": 51
        }
      },
      "source": [
        "results = model.evaluate(X_test, y_test)\n",
        "print(\"test loss, test acc:\", results)"
      ],
      "execution_count": 41,
      "outputs": [
        {
          "output_type": "stream",
          "text": [
            "117/117 [==============================] - 0s 1ms/step - loss: 0.4363 - accuracy: 0.8136\n",
            "test loss, test acc: [0.43631985783576965, 0.8135683536529541]\n"
          ],
          "name": "stdout"
        }
      ]
    },
    {
      "cell_type": "code",
      "metadata": {
        "id": "ffqI1yNu5d4s",
        "outputId": "c70c1c49-a4b5-484d-c8ea-c039719404dd",
        "colab": {
          "base_uri": "https://localhost:8080/",
          "height": 312
        }
      },
      "source": [
        "# Plotting Results\n",
        "import matplotlib.pyplot as plt\n",
        "\n",
        "acc = history.history['accuracy']\n",
        "val_acc = history.history['val_accuracy']\n",
        "loss = history.history['loss']\n",
        "val_loss = history.history['val_loss']\n",
        "epochs = range(1, len(acc) + 1)\n",
        "\n",
        "plt.plot(epochs, acc, 'b', label='Training acc')\n",
        "plt.plot(epochs, val_acc, 'g', label='Validation acc')\n",
        "plt.xlabel('Epochs')\n",
        "plt.ylabel('Accuracy')\n",
        "\n",
        "plt.title('Training and validation accuracy')\n",
        "plt.legend()\n",
        "fig = plt.figure()\n",
        "#fig.savefig('acc.png')\n"
      ],
      "execution_count": 42,
      "outputs": [
        {
          "output_type": "display_data",
          "data": {
            "image/png": "[encoded data removed]",
            "text/plain": [
              "<Figure size 432x288 with 1 Axes>"
            ]
          },
          "metadata": {
            "tags": [],
            "needs_background": "light"
          }
        },
        {
          "output_type": "display_data",
          "data": {
            "text/plain": [
              "<Figure size 432x288 with 0 Axes>"
            ]
          },
          "metadata": {
            "tags": []
          }
        }
      ]
    },
    {
      "cell_type": "code",
      "metadata": {
        "id": "xxuqewO15frA"
      },
      "source": [
        ""
      ],
      "execution_count": 12,
      "outputs": []
    },
    {
      "cell_type": "code",
      "metadata": {
        "id": "q7-IY1fh5eLd"
      },
      "source": [
        "\n",
        "\n",
        "def Transf(file1,file2):\n",
        "    f1= open(file1, \"r\")\n",
        "    L=[]\n",
        "    for line in f1 :\n",
        "      #print(line.split())\n",
        "      l = [int(x) for x in line.split()]\n",
        "      L.append(l)\n",
        "    a=[[round(i[0],5),round(i[1],5)] for i in L]\n",
        "    nb_sommet=a[0][0]\n",
        "    a=a[1:]\n",
        "\n",
        "      #x adjacency matrix\n",
        "    x=np.zeros((nb_sommet,nb_sommet))\n",
        "    for i in a:\n",
        "      x[i[0]][i[1]]=1\n",
        "      x[i[1]][i[0]]=1\n",
        "\n",
        "    x= x.astype(int)\n",
        "\n",
        "    deg=[]\n",
        "    sup=[]\n",
        "    sup2=[]\n",
        "    for i in range(nb_sommet):\n",
        "      d=0\n",
        "      for j in range (nb_sommet):\n",
        "        if x[i][j]==1:\n",
        "          d=d+1\n",
        "      deg.append(d)\n",
        "\n",
        "    for i in range(nb_sommet):\n",
        "      s=0\n",
        "      for j in range (nb_sommet):\n",
        "        if x[i][j]==1:\n",
        "          s=s+deg[j]\n",
        "      sup.append(s)\n",
        "\n",
        "    for i in range(nb_sommet):\n",
        "      s2=0\n",
        "      for j in range (nb_sommet):\n",
        "        if x[i][j]==1:\n",
        "          s2=s2+sup[j]\n",
        "      sup2.append(s2)\n",
        "\n",
        "\n",
        "    M=[]\n",
        "    for i in range (nb_sommet):\n",
        "      M.append([deg[i],sup[i],sup2[i]])\n",
        "    X1=np.array([np.array(xi) for xi in M])\n",
        "    x1 = X1 / X1.max(axis=0)\n",
        "\n",
        "\n",
        "    f2= open(file2, \"r\")\n",
        "    y1=[]\n",
        "    for line in f2 :\n",
        "      y1.append(int(line) )\n",
        "\n",
        "    l=[0 for i in range(nb_sommet)]\n",
        "    for i in y1 :\n",
        "       l[i]=1\n",
        "    Y1=np.asarray(l)\n",
        "\n",
        "    return(x1,Y1)\n",
        "\n"
      ],
      "execution_count": 46,
      "outputs": []
    },
    {
      "cell_type": "code",
      "metadata": {
        "id": "20gA8CSVjdO3"
      },
      "source": [
        "files=[\"er100.txt\",\"er200.txt\",\"er1000.txt\",\"er5000.txt\",\"ba100.txt\",\"ba200.txt\",\"ba1000.txt\",\"ba5000.txt\",\"cora.txt\",\"citeseer.txt\",\"web-edu.txt\",\"web-spam.txt\",\"road-minnesota.txt\",\"bio_yeast.txt\",\"bio_SC.txt\",\"rt_damascus.txt\",\"soc-wiki-vote.txt\",\"socfb-bowdoin47.txt\",\"dimacs15.txt\",\"dimacs.txt\"]"
      ],
      "execution_count": 47,
      "outputs": []
    },
    {
      "cell_type": "code",
      "metadata": {
        "id": "0lIR0WZtjc_r",
        "outputId": "5aff9cb5-3952-4343-9903-fd98ff65d02c",
        "colab": {
          "base_uri": "https://localhost:8080/",
          "height": 697
        }
      },
      "source": [
        "Prob=[]\n",
        "for f in files:\n",
        "  x1,y1=Transf(f,\"y_\"+f)\n",
        "  results = model.evaluate(x1,y1)\n",
        "  Prob.append(results[1])\n",
        "  print(f,results[1])"
      ],
      "execution_count": 48,
      "outputs": [
        {
          "output_type": "stream",
          "text": [
            "4/4 [==============================] - 0s 2ms/step - loss: 0.5088 - accuracy: 0.7600\n",
            "er100.txt 0.7599999904632568\n",
            "7/7 [==============================] - 0s 2ms/step - loss: 0.4727 - accuracy: 0.7950\n",
            "er200.txt 0.7950000166893005\n",
            "32/32 [==============================] - 0s 1ms/step - loss: 0.3287 - accuracy: 0.8880\n",
            "er1000.txt 0.8880000114440918\n",
            "157/157 [==============================] - 0s 1ms/step - loss: 0.3132 - accuracy: 0.8982\n",
            "er5000.txt 0.8981999754905701\n",
            "4/4 [==============================] - 0s 2ms/step - loss: 0.6317 - accuracy: 0.6300\n",
            "ba100.txt 0.6299999952316284\n",
            "7/7 [==============================] - 0s 2ms/step - loss: 0.6495 - accuracy: 0.5900\n",
            "ba200.txt 0.5899999737739563\n",
            "32/32 [==============================] - 0s 1ms/step - loss: 0.5694 - accuracy: 0.7310\n",
            "ba1000.txt 0.7310000061988831\n",
            "157/157 [==============================] - 0s 1ms/step - loss: 0.6823 - accuracy: 0.5606\n",
            "ba5000.txt 0.5605999827384949\n",
            "85/85 [==============================] - 0s 1ms/step - loss: 0.6191 - accuracy: 0.6388\n",
            "cora.txt 0.6388478875160217\n",
            "104/104 [==============================] - 0s 1ms/step - loss: 0.5679 - accuracy: 0.7280\n",
            "citeseer.txt 0.7279831767082214\n",
            "95/95 [==============================] - 0s 2ms/step - loss: 0.6256 - accuracy: 0.5922\n",
            "web-edu.txt 0.5922138094902039\n",
            "149/149 [==============================] - 0s 1ms/step - loss: 0.5711 - accuracy: 0.7004\n",
            "web-spam.txt 0.700440526008606\n",
            "83/83 [==============================] - 0s 1ms/step - loss: 1.2705 - accuracy: 0.4992\n",
            "road-minnesota.txt 0.49924299120903015\n",
            "46/46 [==============================] - 0s 1ms/step - loss: 0.4344 - accuracy: 0.8779\n",
            "bio_yeast.txt 0.8779149651527405\n",
            "63/63 [==============================] - 0s 1ms/step - loss: 0.5081 - accuracy: 0.7535\n",
            "bio_SC.txt 0.7534930109977722\n",
            "96/96 [==============================] - 0s 1ms/step - loss: 0.3453 - accuracy: 0.8853\n",
            "rt_damascus.txt 0.8853210806846619\n",
            "28/28 [==============================] - 0s 1ms/step - loss: 0.5010 - accuracy: 0.7998\n",
            "soc-wiki-vote.txt 0.7997750043869019\n",
            "71/71 [==============================] - 0s 1ms/step - loss: 0.4574 - accuracy: 0.8552\n",
            "socfb-bowdoin47.txt 0.8552398085594177\n",
            "15/15 [==============================] - 0s 1ms/step - loss: 0.2288 - accuracy: 0.9378\n",
            "dimacs15.txt 0.9377777576446533\n",
            "36/36 [==============================] - 0s 1ms/step - loss: 0.1789 - accuracy: 0.9609\n",
            "dimacs.txt 0.960869550704956\n"
          ],
          "name": "stdout"
        }
      ]
    },
    {
      "cell_type": "code",
      "metadata": {
        "id": "JRerfrpQjdxH"
      },
      "source": [
        " np.savetxt(\"p_er5000_2.txt\",model.predict_proba(x1),delimiter=',');"
      ],
      "execution_count": null,
      "outputs": []
    },
    {
      "cell_type": "code",
      "metadata": {
        "id": "LfsYhrFq5doq"
      },
      "source": [
        ""
      ],
      "execution_count": null,
      "outputs": []
    },
    {
      "cell_type": "code",
      "metadata": {
        "id": "tbYPsoZa_XXP"
      },
      "source": [
        ""
      ],
      "execution_count": null,
      "outputs": []
    }
  ]
}
